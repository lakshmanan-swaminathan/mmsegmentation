# Let's take a look at the dataset
import mmcv
import matplotlib.pyplot as plt
import cv2

img = cv2.imread('/home/lakswa/Project/mmsegmentation/data/cityscapes/gtFine/test/bielefeld/bielefeld_000000_041014_gtFine_color.png')
plt.figure(figsize=(8, 6))
plt.imshow(mmcv.bgr2rgb(img))
plt.show()